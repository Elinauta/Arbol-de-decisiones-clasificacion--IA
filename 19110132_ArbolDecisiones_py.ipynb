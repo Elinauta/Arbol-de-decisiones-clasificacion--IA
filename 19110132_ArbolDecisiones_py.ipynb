{
  "nbformat": 4,
  "nbformat_minor": 0,
  "metadata": {
    "colab": {
      "name": "19110132_ArbolDecisiones.py",
      "provenance": [],
      "authorship_tag": "ABX9TyO/98a71qIaJ/U2O6b4hxgp",
      "include_colab_link": true
    },
    "kernelspec": {
      "name": "python3",
      "display_name": "Python 3"
    },
    "language_info": {
      "name": "python"
    }
  },
  "cells": [
    {
      "cell_type": "markdown",
      "metadata": {
        "id": "view-in-github",
        "colab_type": "text"
      },
      "source": [
        "<a href=\"https://colab.research.google.com/github/Elinauta/Arbol-de-decisiones-clasificacion--IA/blob/main/19110132_ArbolDecisiones_py.ipynb\" target=\"_parent\"><img src=\"https://colab.research.google.com/assets/colab-badge.svg\" alt=\"Open In Colab\"/></a>"
      ]
    },
    {
      "cell_type": "markdown",
      "metadata": {
        "id": "fJJ7uttgdKIK"
      },
      "source": [
        "#ARBOL DE DECISIONES - CLASIFICACION\n",
        "###CUAYA PADILLA MARIA ELIZABETH\n",
        "REG. 19110132"
      ]
    },
    {
      "cell_type": "code",
      "metadata": {
        "id": "uArfxy5p2Ct0"
      },
      "source": [
        "#Librerias\n",
        "from sklearn.tree import DecisionTreeClassifier\n",
        "from sklearn.datasets import load_breast_cancer\n",
        "#Librerias de graficacion del arbol de decisiones\n",
        "from sklearn.model_selection import  train_test_split\n",
        "from sklearn.tree import export_graphviz\n",
        "import graphviz"
      ],
      "execution_count": null,
      "outputs": []
    },
    {
      "cell_type": "code",
      "metadata": {
        "id": "-LVEVmC63GTB"
      },
      "source": [
        "cancer = load_breast_cancer()\n",
        "X_entrenamiento, X_prueba, y_entrenamiento, y_prueba=train_test_split(cancer.data,cancer.target)\n",
        "#ENTRENAMIENTO CON SOBREAJUSTE\n",
        "arbol = DecisionTreeClassifier()\n",
        "arbol.fit(X_entrenamiento, y_entrenamiento)"
      ],
      "execution_count": null,
      "outputs": []
    },
    {
      "cell_type": "markdown",
      "metadata": {
        "id": "tLhmSDJ9cZhO"
      },
      "source": [
        "Nivel de precision con los datos de prueba"
      ]
    },
    {
      "cell_type": "code",
      "metadata": {
        "colab": {
          "base_uri": "https://localhost:8080/"
        },
        "id": "5QsoqFgD3yT2",
        "outputId": "1f6fedfd-0877-4319-ca27-575f652a6869"
      },
      "source": [
        "arbol.score(X_prueba, y_prueba)"
      ],
      "execution_count": null,
      "outputs": [
        {
          "output_type": "execute_result",
          "data": {
            "text/plain": [
              "0.916083916083916"
            ]
          },
          "metadata": {
            "tags": []
          },
          "execution_count": 19
        }
      ]
    },
    {
      "cell_type": "markdown",
      "metadata": {
        "id": "9GVDSAUHcgd_"
      },
      "source": [
        "Nivel de presicion con los datos de entrenamiento"
      ]
    },
    {
      "cell_type": "code",
      "metadata": {
        "colab": {
          "base_uri": "https://localhost:8080/"
        },
        "id": "IoLraBbF3-pf",
        "outputId": "e007593c-cd8a-4d7a-ed9c-75422f1c9a5b"
      },
      "source": [
        "arbol.score(X_entrenamiento, y_entrenamiento)"
      ],
      "execution_count": null,
      "outputs": [
        {
          "output_type": "execute_result",
          "data": {
            "text/plain": [
              "1.0"
            ]
          },
          "metadata": {
            "tags": []
          },
          "execution_count": 20
        }
      ]
    },
    {
      "cell_type": "markdown",
      "metadata": {
        "id": "0xnZmbeYclQc"
      },
      "source": [
        "Graficacion del arbol de decisiones "
      ]
    },
    {
      "cell_type": "code",
      "metadata": {
        "id": "yvSTHmmE4Jy-"
      },
      "source": [
        "export_graphviz(arbol, out_file='arbol.dot',class_names=cancer.target_names,\n",
        "                feature_names=cancer.feature_names,impurity=False,filled=True)"
      ],
      "execution_count": null,
      "outputs": []
    },
    {
      "cell_type": "code",
      "metadata": {
        "colab": {
          "base_uri": "https://localhost:8080/",
          "height": 954
        },
        "id": "bVGp4Xp-4wHV",
        "outputId": "cf5d4a2f-102e-46d5-8970-18ceae662238"
      },
      "source": [
        "with open('arbol.dot') as f:\n",
        "  dot_graph=f.read()\n",
        "graphviz.Source(dot_graph)"
      ],
      "execution_count": null,
      "outputs": [
        {
          "output_type": "execute_result",
          "data": {
            "text/plain": [
              "<graphviz.files.Source at 0x7fd78b07f550>"
            ],
            "image/svg+xml": "<?xml version=\"1.0\" encoding=\"UTF-8\" standalone=\"no\"?>\n<!DOCTYPE svg PUBLIC \"-//W3C//DTD SVG 1.1//EN\"\n \"http://www.w3.org/Graphics/SVG/1.1/DTD/svg11.dtd\">\n<!-- Generated by graphviz version 2.40.1 (20161225.0304)\n -->\n<!-- Title: Tree Pages: 1 -->\n<svg width=\"1269pt\" height=\"685pt\"\n viewBox=\"0.00 0.00 1269.00 685.00\" xmlns=\"http://www.w3.org/2000/svg\" xmlns:xlink=\"http://www.w3.org/1999/xlink\">\n<g id=\"graph0\" class=\"graph\" transform=\"scale(1 1) rotate(0) translate(4 681)\">\n<title>Tree</title>\n<polygon fill=\"#ffffff\" stroke=\"transparent\" points=\"-4,4 -4,-681 1265,-681 1265,4 -4,4\"/>\n<!-- 0 -->\n<g id=\"node1\" class=\"node\">\n<title>0</title>\n<polygon fill=\"#b1d9f5\" stroke=\"#000000\" points=\"747,-677 577,-677 577,-609 747,-609 747,-677\"/>\n<text text-anchor=\"middle\" x=\"662\" y=\"-661.8\" font-family=\"Times,serif\" font-size=\"14.00\" fill=\"#000000\">worst perimeter &lt;= 105.95</text>\n<text text-anchor=\"middle\" x=\"662\" y=\"-646.8\" font-family=\"Times,serif\" font-size=\"14.00\" fill=\"#000000\">samples = 426</text>\n<text text-anchor=\"middle\" x=\"662\" y=\"-631.8\" font-family=\"Times,serif\" font-size=\"14.00\" fill=\"#000000\">value = [161, 265]</text>\n<text text-anchor=\"middle\" x=\"662\" y=\"-616.8\" font-family=\"Times,serif\" font-size=\"14.00\" fill=\"#000000\">class = benign</text>\n</g>\n<!-- 1 -->\n<g id=\"node2\" class=\"node\">\n<title>1</title>\n<polygon fill=\"#43a2e6\" stroke=\"#000000\" points=\"620.5,-573 425.5,-573 425.5,-505 620.5,-505 620.5,-573\"/>\n<text text-anchor=\"middle\" x=\"523\" y=\"-557.8\" font-family=\"Times,serif\" font-size=\"14.00\" fill=\"#000000\">worst concave points &lt;= 0.161</text>\n<text text-anchor=\"middle\" x=\"523\" y=\"-542.8\" font-family=\"Times,serif\" font-size=\"14.00\" fill=\"#000000\">samples = 261</text>\n<text text-anchor=\"middle\" x=\"523\" y=\"-527.8\" font-family=\"Times,serif\" font-size=\"14.00\" fill=\"#000000\">value = [12, 249]</text>\n<text text-anchor=\"middle\" x=\"523\" y=\"-512.8\" font-family=\"Times,serif\" font-size=\"14.00\" fill=\"#000000\">class = benign</text>\n</g>\n<!-- 0&#45;&gt;1 -->\n<g id=\"edge1\" class=\"edge\">\n<title>0&#45;&gt;1</title>\n<path fill=\"none\" stroke=\"#000000\" d=\"M616.4862,-608.9465C603.766,-599.4293 589.824,-588.9978 576.6794,-579.163\"/>\n<polygon fill=\"#000000\" stroke=\"#000000\" points=\"578.7198,-576.3184 568.6161,-573.13 574.5262,-581.9232 578.7198,-576.3184\"/>\n<text text-anchor=\"middle\" x=\"572.1801\" y=\"-594.1746\" font-family=\"Times,serif\" font-size=\"14.00\" fill=\"#000000\">True</text>\n</g>\n<!-- 18 -->\n<g id=\"node19\" class=\"node\">\n<title>18</title>\n<polygon fill=\"#e88f4e\" stroke=\"#000000\" points=\"854,-573 698,-573 698,-505 854,-505 854,-573\"/>\n<text text-anchor=\"middle\" x=\"776\" y=\"-557.8\" font-family=\"Times,serif\" font-size=\"14.00\" fill=\"#000000\">worst texture &lt;= 20.645</text>\n<text text-anchor=\"middle\" x=\"776\" y=\"-542.8\" font-family=\"Times,serif\" font-size=\"14.00\" fill=\"#000000\">samples = 165</text>\n<text text-anchor=\"middle\" x=\"776\" y=\"-527.8\" font-family=\"Times,serif\" font-size=\"14.00\" fill=\"#000000\">value = [149, 16]</text>\n<text text-anchor=\"middle\" x=\"776\" y=\"-512.8\" font-family=\"Times,serif\" font-size=\"14.00\" fill=\"#000000\">class = malignant</text>\n</g>\n<!-- 0&#45;&gt;18 -->\n<g id=\"edge18\" class=\"edge\">\n<title>0&#45;&gt;18</title>\n<path fill=\"none\" stroke=\"#000000\" d=\"M699.3279,-608.9465C709.465,-599.6986 720.5483,-589.5876 731.0583,-579.9994\"/>\n<polygon fill=\"#000000\" stroke=\"#000000\" points=\"733.5595,-582.4553 738.5883,-573.13 728.8417,-577.284 733.5595,-582.4553\"/>\n<text text-anchor=\"middle\" x=\"737.4427\" y=\"-594.4037\" font-family=\"Times,serif\" font-size=\"14.00\" fill=\"#000000\">False</text>\n</g>\n<!-- 2 -->\n<g id=\"node3\" class=\"node\">\n<title>2</title>\n<polygon fill=\"#3d9fe6\" stroke=\"#000000\" points=\"380,-469 172,-469 172,-401 380,-401 380,-469\"/>\n<text text-anchor=\"middle\" x=\"276\" y=\"-453.8\" font-family=\"Times,serif\" font-size=\"14.00\" fill=\"#000000\">worst fractal dimension &lt;= 0.055</text>\n<text text-anchor=\"middle\" x=\"276\" y=\"-438.8\" font-family=\"Times,serif\" font-size=\"14.00\" fill=\"#000000\">samples = 253</text>\n<text text-anchor=\"middle\" x=\"276\" y=\"-423.8\" font-family=\"Times,serif\" font-size=\"14.00\" fill=\"#000000\">value = [5, 248]</text>\n<text text-anchor=\"middle\" x=\"276\" y=\"-408.8\" font-family=\"Times,serif\" font-size=\"14.00\" fill=\"#000000\">class = benign</text>\n</g>\n<!-- 1&#45;&gt;2 -->\n<g id=\"edge2\" class=\"edge\">\n<title>1&#45;&gt;2</title>\n<path fill=\"none\" stroke=\"#000000\" d=\"M442.123,-504.9465C417.9202,-494.7559 391.2281,-483.5171 366.4516,-473.0849\"/>\n<polygon fill=\"#000000\" stroke=\"#000000\" points=\"367.6333,-469.7849 357.0587,-469.13 364.9169,-476.2364 367.6333,-469.7849\"/>\n</g>\n<!-- 15 -->\n<g id=\"node16\" class=\"node\">\n<title>15</title>\n<polygon fill=\"#e99355\" stroke=\"#000000\" points=\"616.5,-469 429.5,-469 429.5,-401 616.5,-401 616.5,-469\"/>\n<text text-anchor=\"middle\" x=\"523\" y=\"-453.8\" font-family=\"Times,serif\" font-size=\"14.00\" fill=\"#000000\">mean concave points &lt;= 0.05</text>\n<text text-anchor=\"middle\" x=\"523\" y=\"-438.8\" font-family=\"Times,serif\" font-size=\"14.00\" fill=\"#000000\">samples = 8</text>\n<text text-anchor=\"middle\" x=\"523\" y=\"-423.8\" font-family=\"Times,serif\" font-size=\"14.00\" fill=\"#000000\">value = [7, 1]</text>\n<text text-anchor=\"middle\" x=\"523\" y=\"-408.8\" font-family=\"Times,serif\" font-size=\"14.00\" fill=\"#000000\">class = malignant</text>\n</g>\n<!-- 1&#45;&gt;15 -->\n<g id=\"edge15\" class=\"edge\">\n<title>1&#45;&gt;15</title>\n<path fill=\"none\" stroke=\"#000000\" d=\"M523,-504.9465C523,-496.776 523,-487.9318 523,-479.3697\"/>\n<polygon fill=\"#000000\" stroke=\"#000000\" points=\"526.5001,-479.13 523,-469.13 519.5001,-479.13 526.5001,-479.13\"/>\n</g>\n<!-- 3 -->\n<g id=\"node4\" class=\"node\">\n<title>3</title>\n<polygon fill=\"#e58139\" stroke=\"#000000\" points=\"173,-357.5 57,-357.5 57,-304.5 173,-304.5 173,-357.5\"/>\n<text text-anchor=\"middle\" x=\"115\" y=\"-342.3\" font-family=\"Times,serif\" font-size=\"14.00\" fill=\"#000000\">samples = 1</text>\n<text text-anchor=\"middle\" x=\"115\" y=\"-327.3\" font-family=\"Times,serif\" font-size=\"14.00\" fill=\"#000000\">value = [1, 0]</text>\n<text text-anchor=\"middle\" x=\"115\" y=\"-312.3\" font-family=\"Times,serif\" font-size=\"14.00\" fill=\"#000000\">class = malignant</text>\n</g>\n<!-- 2&#45;&gt;3 -->\n<g id=\"edge3\" class=\"edge\">\n<title>2&#45;&gt;3</title>\n<path fill=\"none\" stroke=\"#000000\" d=\"M223.2826,-400.9465C204.4402,-388.775 183.2832,-375.1084 164.7034,-363.1066\"/>\n<polygon fill=\"#000000\" stroke=\"#000000\" points=\"166.3883,-360.0283 156.0893,-357.5422 162.5901,-365.9082 166.3883,-360.0283\"/>\n</g>\n<!-- 4 -->\n<g id=\"node5\" class=\"node\">\n<title>4</title>\n<polygon fill=\"#3c9fe5\" stroke=\"#000000\" points=\"361,-365 191,-365 191,-297 361,-297 361,-365\"/>\n<text text-anchor=\"middle\" x=\"276\" y=\"-349.8\" font-family=\"Times,serif\" font-size=\"14.00\" fill=\"#000000\">worst perimeter &lt;= 101.95</text>\n<text text-anchor=\"middle\" x=\"276\" y=\"-334.8\" font-family=\"Times,serif\" font-size=\"14.00\" fill=\"#000000\">samples = 252</text>\n<text text-anchor=\"middle\" x=\"276\" y=\"-319.8\" font-family=\"Times,serif\" font-size=\"14.00\" fill=\"#000000\">value = [4, 248]</text>\n<text text-anchor=\"middle\" x=\"276\" y=\"-304.8\" font-family=\"Times,serif\" font-size=\"14.00\" fill=\"#000000\">class = benign</text>\n</g>\n<!-- 2&#45;&gt;4 -->\n<g id=\"edge4\" class=\"edge\">\n<title>2&#45;&gt;4</title>\n<path fill=\"none\" stroke=\"#000000\" d=\"M276,-400.9465C276,-392.776 276,-383.9318 276,-375.3697\"/>\n<polygon fill=\"#000000\" stroke=\"#000000\" points=\"279.5001,-375.13 276,-365.13 272.5001,-375.13 279.5001,-375.13\"/>\n</g>\n<!-- 5 -->\n<g id=\"node6\" class=\"node\">\n<title>5</title>\n<polygon fill=\"#3a9de5\" stroke=\"#000000\" points=\"265.5,-261 116.5,-261 116.5,-193 265.5,-193 265.5,-261\"/>\n<text text-anchor=\"middle\" x=\"191\" y=\"-245.8\" font-family=\"Times,serif\" font-size=\"14.00\" fill=\"#000000\">worst texture &lt;= 33.35</text>\n<text text-anchor=\"middle\" x=\"191\" y=\"-230.8\" font-family=\"Times,serif\" font-size=\"14.00\" fill=\"#000000\">samples = 236</text>\n<text text-anchor=\"middle\" x=\"191\" y=\"-215.8\" font-family=\"Times,serif\" font-size=\"14.00\" fill=\"#000000\">value = [1, 235]</text>\n<text text-anchor=\"middle\" x=\"191\" y=\"-200.8\" font-family=\"Times,serif\" font-size=\"14.00\" fill=\"#000000\">class = benign</text>\n</g>\n<!-- 4&#45;&gt;5 -->\n<g id=\"edge5\" class=\"edge\">\n<title>4&#45;&gt;5</title>\n<path fill=\"none\" stroke=\"#000000\" d=\"M248.1678,-296.9465C240.903,-288.0578 232.9864,-278.3716 225.424,-269.1188\"/>\n<polygon fill=\"#000000\" stroke=\"#000000\" points=\"227.9331,-266.658 218.8947,-261.13 222.513,-271.0878 227.9331,-266.658\"/>\n</g>\n<!-- 10 -->\n<g id=\"node11\" class=\"node\">\n<title>10</title>\n<polygon fill=\"#67b4eb\" stroke=\"#000000\" points=\"440,-261 284,-261 284,-193 440,-193 440,-261\"/>\n<text text-anchor=\"middle\" x=\"362\" y=\"-245.8\" font-family=\"Times,serif\" font-size=\"14.00\" fill=\"#000000\">worst texture &lt;= 29.365</text>\n<text text-anchor=\"middle\" x=\"362\" y=\"-230.8\" font-family=\"Times,serif\" font-size=\"14.00\" fill=\"#000000\">samples = 16</text>\n<text text-anchor=\"middle\" x=\"362\" y=\"-215.8\" font-family=\"Times,serif\" font-size=\"14.00\" fill=\"#000000\">value = [3, 13]</text>\n<text text-anchor=\"middle\" x=\"362\" y=\"-200.8\" font-family=\"Times,serif\" font-size=\"14.00\" fill=\"#000000\">class = benign</text>\n</g>\n<!-- 4&#45;&gt;10 -->\n<g id=\"edge10\" class=\"edge\">\n<title>4&#45;&gt;10</title>\n<path fill=\"none\" stroke=\"#000000\" d=\"M304.1596,-296.9465C311.5842,-287.968 319.6815,-278.1758 327.4028,-268.8385\"/>\n<polygon fill=\"#000000\" stroke=\"#000000\" points=\"330.1017,-271.0669 333.7771,-261.13 324.7072,-266.606 330.1017,-271.0669\"/>\n</g>\n<!-- 6 -->\n<g id=\"node7\" class=\"node\">\n<title>6</title>\n<polygon fill=\"#399de5\" stroke=\"#000000\" points=\"110,-149.5 0,-149.5 0,-96.5 110,-96.5 110,-149.5\"/>\n<text text-anchor=\"middle\" x=\"55\" y=\"-134.3\" font-family=\"Times,serif\" font-size=\"14.00\" fill=\"#000000\">samples = 222</text>\n<text text-anchor=\"middle\" x=\"55\" y=\"-119.3\" font-family=\"Times,serif\" font-size=\"14.00\" fill=\"#000000\">value = [0, 222]</text>\n<text text-anchor=\"middle\" x=\"55\" y=\"-104.3\" font-family=\"Times,serif\" font-size=\"14.00\" fill=\"#000000\">class = benign</text>\n</g>\n<!-- 5&#45;&gt;6 -->\n<g id=\"edge6\" class=\"edge\">\n<title>5&#45;&gt;6</title>\n<path fill=\"none\" stroke=\"#000000\" d=\"M146.4685,-192.9465C130.9121,-181.0504 113.4879,-167.726 98.0541,-155.9237\"/>\n<polygon fill=\"#000000\" stroke=\"#000000\" points=\"99.7787,-152.8364 89.709,-149.5422 95.5265,-158.397 99.7787,-152.8364\"/>\n</g>\n<!-- 7 -->\n<g id=\"node8\" class=\"node\">\n<title>7</title>\n<polygon fill=\"#48a5e7\" stroke=\"#000000\" points=\"269.5,-157 128.5,-157 128.5,-89 269.5,-89 269.5,-157\"/>\n<text text-anchor=\"middle\" x=\"199\" y=\"-141.8\" font-family=\"Times,serif\" font-size=\"14.00\" fill=\"#000000\">worst texture &lt;= 33.8</text>\n<text text-anchor=\"middle\" x=\"199\" y=\"-126.8\" font-family=\"Times,serif\" font-size=\"14.00\" fill=\"#000000\">samples = 14</text>\n<text text-anchor=\"middle\" x=\"199\" y=\"-111.8\" font-family=\"Times,serif\" font-size=\"14.00\" fill=\"#000000\">value = [1, 13]</text>\n<text text-anchor=\"middle\" x=\"199\" y=\"-96.8\" font-family=\"Times,serif\" font-size=\"14.00\" fill=\"#000000\">class = benign</text>\n</g>\n<!-- 5&#45;&gt;7 -->\n<g id=\"edge7\" class=\"edge\">\n<title>5&#45;&gt;7</title>\n<path fill=\"none\" stroke=\"#000000\" d=\"M193.6195,-192.9465C194.248,-184.776 194.9283,-175.9318 195.5869,-167.3697\"/>\n<polygon fill=\"#000000\" stroke=\"#000000\" points=\"199.0973,-167.369 196.3746,-157.13 192.1179,-166.8321 199.0973,-167.369\"/>\n</g>\n<!-- 8 -->\n<g id=\"node9\" class=\"node\">\n<title>8</title>\n<polygon fill=\"#e58139\" stroke=\"#000000\" points=\"211,-53 95,-53 95,0 211,0 211,-53\"/>\n<text text-anchor=\"middle\" x=\"153\" y=\"-37.8\" font-family=\"Times,serif\" font-size=\"14.00\" fill=\"#000000\">samples = 1</text>\n<text text-anchor=\"middle\" x=\"153\" y=\"-22.8\" font-family=\"Times,serif\" font-size=\"14.00\" fill=\"#000000\">value = [1, 0]</text>\n<text text-anchor=\"middle\" x=\"153\" y=\"-7.8\" font-family=\"Times,serif\" font-size=\"14.00\" fill=\"#000000\">class = malignant</text>\n</g>\n<!-- 7&#45;&gt;8 -->\n<g id=\"edge8\" class=\"edge\">\n<title>7&#45;&gt;8</title>\n<path fill=\"none\" stroke=\"#000000\" d=\"M182.7821,-88.9777C178.679,-80.3702 174.2597,-71.0992 170.1139,-62.402\"/>\n<polygon fill=\"#000000\" stroke=\"#000000\" points=\"173.213,-60.7693 165.7506,-53.2485 166.8942,-63.7814 173.213,-60.7693\"/>\n</g>\n<!-- 9 -->\n<g id=\"node10\" class=\"node\">\n<title>9</title>\n<polygon fill=\"#399de5\" stroke=\"#000000\" points=\"331,-53 229,-53 229,0 331,0 331,-53\"/>\n<text text-anchor=\"middle\" x=\"280\" y=\"-37.8\" font-family=\"Times,serif\" font-size=\"14.00\" fill=\"#000000\">samples = 13</text>\n<text text-anchor=\"middle\" x=\"280\" y=\"-22.8\" font-family=\"Times,serif\" font-size=\"14.00\" fill=\"#000000\">value = [0, 13]</text>\n<text text-anchor=\"middle\" x=\"280\" y=\"-7.8\" font-family=\"Times,serif\" font-size=\"14.00\" fill=\"#000000\">class = benign</text>\n</g>\n<!-- 7&#45;&gt;9 -->\n<g id=\"edge9\" class=\"edge\">\n<title>7&#45;&gt;9</title>\n<path fill=\"none\" stroke=\"#000000\" d=\"M227.5576,-88.9777C235.1669,-79.9123 243.3939,-70.111 251.0253,-61.0192\"/>\n<polygon fill=\"#000000\" stroke=\"#000000\" points=\"253.7995,-63.1581 257.5479,-53.2485 248.438,-58.6577 253.7995,-63.1581\"/>\n</g>\n<!-- 11 -->\n<g id=\"node12\" class=\"node\">\n<title>11</title>\n<polygon fill=\"#399de5\" stroke=\"#000000\" points=\"405,-149.5 303,-149.5 303,-96.5 405,-96.5 405,-149.5\"/>\n<text text-anchor=\"middle\" x=\"354\" y=\"-134.3\" font-family=\"Times,serif\" font-size=\"14.00\" fill=\"#000000\">samples = 12</text>\n<text text-anchor=\"middle\" x=\"354\" y=\"-119.3\" font-family=\"Times,serif\" font-size=\"14.00\" fill=\"#000000\">value = [0, 12]</text>\n<text text-anchor=\"middle\" x=\"354\" y=\"-104.3\" font-family=\"Times,serif\" font-size=\"14.00\" fill=\"#000000\">class = benign</text>\n</g>\n<!-- 10&#45;&gt;11 -->\n<g id=\"edge11\" class=\"edge\">\n<title>10&#45;&gt;11</title>\n<path fill=\"none\" stroke=\"#000000\" d=\"M359.3805,-192.9465C358.5586,-182.2621 357.6481,-170.4254 356.8134,-159.5742\"/>\n<polygon fill=\"#000000\" stroke=\"#000000\" points=\"360.2985,-159.2442 356.0417,-149.5422 353.3191,-159.7812 360.2985,-159.2442\"/>\n</g>\n<!-- 12 -->\n<g id=\"node13\" class=\"node\">\n<title>12</title>\n<polygon fill=\"#eeab7b\" stroke=\"#000000\" points=\"579,-157 423,-157 423,-89 579,-89 579,-157\"/>\n<text text-anchor=\"middle\" x=\"501\" y=\"-141.8\" font-family=\"Times,serif\" font-size=\"14.00\" fill=\"#000000\">worst texture &lt;= 37.405</text>\n<text text-anchor=\"middle\" x=\"501\" y=\"-126.8\" font-family=\"Times,serif\" font-size=\"14.00\" fill=\"#000000\">samples = 4</text>\n<text text-anchor=\"middle\" x=\"501\" y=\"-111.8\" font-family=\"Times,serif\" font-size=\"14.00\" fill=\"#000000\">value = [3, 1]</text>\n<text text-anchor=\"middle\" x=\"501\" y=\"-96.8\" font-family=\"Times,serif\" font-size=\"14.00\" fill=\"#000000\">class = malignant</text>\n</g>\n<!-- 10&#45;&gt;12 -->\n<g id=\"edge12\" class=\"edge\">\n<title>10&#45;&gt;12</title>\n<path fill=\"none\" stroke=\"#000000\" d=\"M407.5138,-192.9465C420.234,-183.4293 434.176,-172.9978 447.3206,-163.163\"/>\n<polygon fill=\"#000000\" stroke=\"#000000\" points=\"449.4738,-165.9232 455.3839,-157.13 445.2802,-160.3184 449.4738,-165.9232\"/>\n</g>\n<!-- 13 -->\n<g id=\"node14\" class=\"node\">\n<title>13</title>\n<polygon fill=\"#e58139\" stroke=\"#000000\" points=\"481,-53 365,-53 365,0 481,0 481,-53\"/>\n<text text-anchor=\"middle\" x=\"423\" y=\"-37.8\" font-family=\"Times,serif\" font-size=\"14.00\" fill=\"#000000\">samples = 3</text>\n<text text-anchor=\"middle\" x=\"423\" y=\"-22.8\" font-family=\"Times,serif\" font-size=\"14.00\" fill=\"#000000\">value = [3, 0]</text>\n<text text-anchor=\"middle\" x=\"423\" y=\"-7.8\" font-family=\"Times,serif\" font-size=\"14.00\" fill=\"#000000\">class = malignant</text>\n</g>\n<!-- 12&#45;&gt;13 -->\n<g id=\"edge13\" class=\"edge\">\n<title>12&#45;&gt;13</title>\n<path fill=\"none\" stroke=\"#000000\" d=\"M473.5001,-88.9777C466.2467,-80.0039 458.4103,-70.3089 451.1244,-61.295\"/>\n<polygon fill=\"#000000\" stroke=\"#000000\" points=\"453.6288,-58.8255 444.6205,-53.2485 448.1847,-63.2258 453.6288,-58.8255\"/>\n</g>\n<!-- 14 -->\n<g id=\"node15\" class=\"node\">\n<title>14</title>\n<polygon fill=\"#399de5\" stroke=\"#000000\" points=\"597,-53 499,-53 499,0 597,0 597,-53\"/>\n<text text-anchor=\"middle\" x=\"548\" y=\"-37.8\" font-family=\"Times,serif\" font-size=\"14.00\" fill=\"#000000\">samples = 1</text>\n<text text-anchor=\"middle\" x=\"548\" y=\"-22.8\" font-family=\"Times,serif\" font-size=\"14.00\" fill=\"#000000\">value = [0, 1]</text>\n<text text-anchor=\"middle\" x=\"548\" y=\"-7.8\" font-family=\"Times,serif\" font-size=\"14.00\" fill=\"#000000\">class = benign</text>\n</g>\n<!-- 12&#45;&gt;14 -->\n<g id=\"edge14\" class=\"edge\">\n<title>12&#45;&gt;14</title>\n<path fill=\"none\" stroke=\"#000000\" d=\"M517.5704,-88.9777C521.7627,-80.3702 526.2781,-71.0992 530.514,-62.402\"/>\n<polygon fill=\"#000000\" stroke=\"#000000\" points=\"533.7401,-63.7714 534.9722,-53.2485 527.4468,-60.7063 533.7401,-63.7714\"/>\n</g>\n<!-- 16 -->\n<g id=\"node17\" class=\"node\">\n<title>16</title>\n<polygon fill=\"#399de5\" stroke=\"#000000\" points=\"477,-357.5 379,-357.5 379,-304.5 477,-304.5 477,-357.5\"/>\n<text text-anchor=\"middle\" x=\"428\" y=\"-342.3\" font-family=\"Times,serif\" font-size=\"14.00\" fill=\"#000000\">samples = 1</text>\n<text text-anchor=\"middle\" x=\"428\" y=\"-327.3\" font-family=\"Times,serif\" font-size=\"14.00\" fill=\"#000000\">value = [0, 1]</text>\n<text text-anchor=\"middle\" x=\"428\" y=\"-312.3\" font-family=\"Times,serif\" font-size=\"14.00\" fill=\"#000000\">class = benign</text>\n</g>\n<!-- 15&#45;&gt;16 -->\n<g id=\"edge16\" class=\"edge\">\n<title>15&#45;&gt;16</title>\n<path fill=\"none\" stroke=\"#000000\" d=\"M491.8934,-400.9465C481.4293,-389.491 469.7553,-376.711 459.278,-365.2412\"/>\n<polygon fill=\"#000000\" stroke=\"#000000\" points=\"461.5738,-362.565 452.2452,-357.5422 456.4055,-367.2861 461.5738,-362.565\"/>\n</g>\n<!-- 17 -->\n<g id=\"node18\" class=\"node\">\n<title>17</title>\n<polygon fill=\"#e58139\" stroke=\"#000000\" points=\"611,-357.5 495,-357.5 495,-304.5 611,-304.5 611,-357.5\"/>\n<text text-anchor=\"middle\" x=\"553\" y=\"-342.3\" font-family=\"Times,serif\" font-size=\"14.00\" fill=\"#000000\">samples = 7</text>\n<text text-anchor=\"middle\" x=\"553\" y=\"-327.3\" font-family=\"Times,serif\" font-size=\"14.00\" fill=\"#000000\">value = [7, 0]</text>\n<text text-anchor=\"middle\" x=\"553\" y=\"-312.3\" font-family=\"Times,serif\" font-size=\"14.00\" fill=\"#000000\">class = malignant</text>\n</g>\n<!-- 15&#45;&gt;17 -->\n<g id=\"edge17\" class=\"edge\">\n<title>15&#45;&gt;17</title>\n<path fill=\"none\" stroke=\"#000000\" d=\"M532.8231,-400.9465C535.937,-390.1519 539.39,-378.1813 542.5465,-367.2389\"/>\n<polygon fill=\"#000000\" stroke=\"#000000\" points=\"545.9348,-368.1205 545.3436,-357.5422 539.209,-366.1803 545.9348,-368.1205\"/>\n</g>\n<!-- 19 -->\n<g id=\"node20\" class=\"node\">\n<title>19</title>\n<polygon fill=\"#a5d2f3\" stroke=\"#000000\" points=\"861,-469 691,-469 691,-401 861,-401 861,-469\"/>\n<text text-anchor=\"middle\" x=\"776\" y=\"-453.8\" font-family=\"Times,serif\" font-size=\"14.00\" fill=\"#000000\">worst perimeter &lt;= 115.95</text>\n<text text-anchor=\"middle\" x=\"776\" y=\"-438.8\" font-family=\"Times,serif\" font-size=\"14.00\" fill=\"#000000\">samples = 17</text>\n<text text-anchor=\"middle\" x=\"776\" y=\"-423.8\" font-family=\"Times,serif\" font-size=\"14.00\" fill=\"#000000\">value = [6, 11]</text>\n<text text-anchor=\"middle\" x=\"776\" y=\"-408.8\" font-family=\"Times,serif\" font-size=\"14.00\" fill=\"#000000\">class = benign</text>\n</g>\n<!-- 18&#45;&gt;19 -->\n<g id=\"edge19\" class=\"edge\">\n<title>18&#45;&gt;19</title>\n<path fill=\"none\" stroke=\"#000000\" d=\"M776,-504.9465C776,-496.776 776,-487.9318 776,-479.3697\"/>\n<polygon fill=\"#000000\" stroke=\"#000000\" points=\"779.5001,-479.13 776,-469.13 772.5001,-479.13 779.5001,-479.13\"/>\n</g>\n<!-- 24 -->\n<g id=\"node25\" class=\"node\">\n<title>24</title>\n<polygon fill=\"#e68540\" stroke=\"#000000\" points=\"1096,-469 964,-469 964,-401 1096,-401 1096,-469\"/>\n<text text-anchor=\"middle\" x=\"1030\" y=\"-453.8\" font-family=\"Times,serif\" font-size=\"14.00\" fill=\"#000000\">worst area &lt;= 829.7</text>\n<text text-anchor=\"middle\" x=\"1030\" y=\"-438.8\" font-family=\"Times,serif\" font-size=\"14.00\" fill=\"#000000\">samples = 148</text>\n<text text-anchor=\"middle\" x=\"1030\" y=\"-423.8\" font-family=\"Times,serif\" font-size=\"14.00\" fill=\"#000000\">value = [143, 5]</text>\n<text text-anchor=\"middle\" x=\"1030\" y=\"-408.8\" font-family=\"Times,serif\" font-size=\"14.00\" fill=\"#000000\">class = malignant</text>\n</g>\n<!-- 18&#45;&gt;24 -->\n<g id=\"edge24\" class=\"edge\">\n<title>18&#45;&gt;24</title>\n<path fill=\"none\" stroke=\"#000000\" d=\"M854.2809,-506.948C886.1167,-493.9128 922.7667,-478.9065 954.3307,-465.9827\"/>\n<polygon fill=\"#000000\" stroke=\"#000000\" points=\"956.024,-469.0715 963.9521,-462.0432 953.3716,-462.5934 956.024,-469.0715\"/>\n</g>\n<!-- 20 -->\n<g id=\"node21\" class=\"node\">\n<title>20</title>\n<polygon fill=\"#399de5\" stroke=\"#000000\" points=\"731,-357.5 629,-357.5 629,-304.5 731,-304.5 731,-357.5\"/>\n<text text-anchor=\"middle\" x=\"680\" y=\"-342.3\" font-family=\"Times,serif\" font-size=\"14.00\" fill=\"#000000\">samples = 10</text>\n<text text-anchor=\"middle\" x=\"680\" y=\"-327.3\" font-family=\"Times,serif\" font-size=\"14.00\" fill=\"#000000\">value = [0, 10]</text>\n<text text-anchor=\"middle\" x=\"680\" y=\"-312.3\" font-family=\"Times,serif\" font-size=\"14.00\" fill=\"#000000\">class = benign</text>\n</g>\n<!-- 19&#45;&gt;20 -->\n<g id=\"edge20\" class=\"edge\">\n<title>19&#45;&gt;20</title>\n<path fill=\"none\" stroke=\"#000000\" d=\"M744.566,-400.9465C733.89,-389.3809 721.9678,-376.4652 711.3022,-364.9107\"/>\n<polygon fill=\"#000000\" stroke=\"#000000\" points=\"713.8551,-362.5162 704.5005,-357.5422 708.7115,-367.2642 713.8551,-362.5162\"/>\n</g>\n<!-- 21 -->\n<g id=\"node22\" class=\"node\">\n<title>21</title>\n<polygon fill=\"#e9965a\" stroke=\"#000000\" points=\"914.5,-365 749.5,-365 749.5,-297 914.5,-297 914.5,-365\"/>\n<text text-anchor=\"middle\" x=\"832\" y=\"-349.8\" font-family=\"Times,serif\" font-size=\"14.00\" fill=\"#000000\">worst concavity &lt;= 0.177</text>\n<text text-anchor=\"middle\" x=\"832\" y=\"-334.8\" font-family=\"Times,serif\" font-size=\"14.00\" fill=\"#000000\">samples = 7</text>\n<text text-anchor=\"middle\" x=\"832\" y=\"-319.8\" font-family=\"Times,serif\" font-size=\"14.00\" fill=\"#000000\">value = [6, 1]</text>\n<text text-anchor=\"middle\" x=\"832\" y=\"-304.8\" font-family=\"Times,serif\" font-size=\"14.00\" fill=\"#000000\">class = malignant</text>\n</g>\n<!-- 19&#45;&gt;21 -->\n<g id=\"edge21\" class=\"edge\">\n<title>19&#45;&gt;21</title>\n<path fill=\"none\" stroke=\"#000000\" d=\"M794.3365,-400.9465C798.9777,-392.3271 804.0227,-382.9579 808.8671,-373.9611\"/>\n<polygon fill=\"#000000\" stroke=\"#000000\" points=\"811.9629,-375.5941 813.6223,-365.13 805.7996,-372.2754 811.9629,-375.5941\"/>\n</g>\n<!-- 22 -->\n<g id=\"node23\" class=\"node\">\n<title>22</title>\n<polygon fill=\"#399de5\" stroke=\"#000000\" points=\"774,-253.5 676,-253.5 676,-200.5 774,-200.5 774,-253.5\"/>\n<text text-anchor=\"middle\" x=\"725\" y=\"-238.3\" font-family=\"Times,serif\" font-size=\"14.00\" fill=\"#000000\">samples = 1</text>\n<text text-anchor=\"middle\" x=\"725\" y=\"-223.3\" font-family=\"Times,serif\" font-size=\"14.00\" fill=\"#000000\">value = [0, 1]</text>\n<text text-anchor=\"middle\" x=\"725\" y=\"-208.3\" font-family=\"Times,serif\" font-size=\"14.00\" fill=\"#000000\">class = benign</text>\n</g>\n<!-- 21&#45;&gt;22 -->\n<g id=\"edge22\" class=\"edge\">\n<title>21&#45;&gt;22</title>\n<path fill=\"none\" stroke=\"#000000\" d=\"M796.9642,-296.9465C784.9516,-285.2707 771.5234,-272.219 759.5496,-260.5809\"/>\n<polygon fill=\"#000000\" stroke=\"#000000\" points=\"761.9182,-258.0022 752.3078,-253.5422 757.0393,-263.0218 761.9182,-258.0022\"/>\n</g>\n<!-- 23 -->\n<g id=\"node24\" class=\"node\">\n<title>23</title>\n<polygon fill=\"#e58139\" stroke=\"#000000\" points=\"908,-253.5 792,-253.5 792,-200.5 908,-200.5 908,-253.5\"/>\n<text text-anchor=\"middle\" x=\"850\" y=\"-238.3\" font-family=\"Times,serif\" font-size=\"14.00\" fill=\"#000000\">samples = 6</text>\n<text text-anchor=\"middle\" x=\"850\" y=\"-223.3\" font-family=\"Times,serif\" font-size=\"14.00\" fill=\"#000000\">value = [6, 0]</text>\n<text text-anchor=\"middle\" x=\"850\" y=\"-208.3\" font-family=\"Times,serif\" font-size=\"14.00\" fill=\"#000000\">class = malignant</text>\n</g>\n<!-- 21&#45;&gt;23 -->\n<g id=\"edge23\" class=\"edge\">\n<title>21&#45;&gt;23</title>\n<path fill=\"none\" stroke=\"#000000\" d=\"M837.8939,-296.9465C839.7431,-286.2621 841.7918,-274.4254 843.6698,-263.5742\"/>\n<polygon fill=\"#000000\" stroke=\"#000000\" points=\"847.1494,-263.9926 845.4062,-253.5422 840.2519,-262.7987 847.1494,-263.9926\"/>\n</g>\n<!-- 25 -->\n<g id=\"node26\" class=\"node\">\n<title>25</title>\n<polygon fill=\"#f3c7a7\" stroke=\"#000000\" points=\"1127,-365 933,-365 933,-297 1127,-297 1127,-365\"/>\n<text text-anchor=\"middle\" x=\"1030\" y=\"-349.8\" font-family=\"Times,serif\" font-size=\"14.00\" fill=\"#000000\">mean concave points &lt;= 0.049</text>\n<text text-anchor=\"middle\" x=\"1030\" y=\"-334.8\" font-family=\"Times,serif\" font-size=\"14.00\" fill=\"#000000\">samples = 14</text>\n<text text-anchor=\"middle\" x=\"1030\" y=\"-319.8\" font-family=\"Times,serif\" font-size=\"14.00\" fill=\"#000000\">value = [9, 5]</text>\n<text text-anchor=\"middle\" x=\"1030\" y=\"-304.8\" font-family=\"Times,serif\" font-size=\"14.00\" fill=\"#000000\">class = malignant</text>\n</g>\n<!-- 24&#45;&gt;25 -->\n<g id=\"edge25\" class=\"edge\">\n<title>24&#45;&gt;25</title>\n<path fill=\"none\" stroke=\"#000000\" d=\"M1030,-400.9465C1030,-392.776 1030,-383.9318 1030,-375.3697\"/>\n<polygon fill=\"#000000\" stroke=\"#000000\" points=\"1033.5001,-375.13 1030,-365.13 1026.5001,-375.13 1033.5001,-375.13\"/>\n</g>\n<!-- 28 -->\n<g id=\"node29\" class=\"node\">\n<title>28</title>\n<polygon fill=\"#e58139\" stroke=\"#000000\" points=\"1261,-357.5 1145,-357.5 1145,-304.5 1261,-304.5 1261,-357.5\"/>\n<text text-anchor=\"middle\" x=\"1203\" y=\"-342.3\" font-family=\"Times,serif\" font-size=\"14.00\" fill=\"#000000\">samples = 134</text>\n<text text-anchor=\"middle\" x=\"1203\" y=\"-327.3\" font-family=\"Times,serif\" font-size=\"14.00\" fill=\"#000000\">value = [134, 0]</text>\n<text text-anchor=\"middle\" x=\"1203\" y=\"-312.3\" font-family=\"Times,serif\" font-size=\"14.00\" fill=\"#000000\">class = malignant</text>\n</g>\n<!-- 24&#45;&gt;28 -->\n<g id=\"edge28\" class=\"edge\">\n<title>24&#45;&gt;28</title>\n<path fill=\"none\" stroke=\"#000000\" d=\"M1086.6467,-400.9465C1107.0767,-388.6649 1130.0391,-374.8609 1150.1333,-362.7811\"/>\n<polygon fill=\"#000000\" stroke=\"#000000\" points=\"1152.0809,-365.6942 1158.8481,-357.5422 1148.4743,-359.6948 1152.0809,-365.6942\"/>\n</g>\n<!-- 26 -->\n<g id=\"node27\" class=\"node\">\n<title>26</title>\n<polygon fill=\"#399de5\" stroke=\"#000000\" points=\"1060,-253.5 962,-253.5 962,-200.5 1060,-200.5 1060,-253.5\"/>\n<text text-anchor=\"middle\" x=\"1011\" y=\"-238.3\" font-family=\"Times,serif\" font-size=\"14.00\" fill=\"#000000\">samples = 5</text>\n<text text-anchor=\"middle\" x=\"1011\" y=\"-223.3\" font-family=\"Times,serif\" font-size=\"14.00\" fill=\"#000000\">value = [0, 5]</text>\n<text text-anchor=\"middle\" x=\"1011\" y=\"-208.3\" font-family=\"Times,serif\" font-size=\"14.00\" fill=\"#000000\">class = benign</text>\n</g>\n<!-- 25&#45;&gt;26 -->\n<g id=\"edge26\" class=\"edge\">\n<title>25&#45;&gt;26</title>\n<path fill=\"none\" stroke=\"#000000\" d=\"M1023.7787,-296.9465C1021.8267,-286.2621 1019.6643,-274.4254 1017.6818,-263.5742\"/>\n<polygon fill=\"#000000\" stroke=\"#000000\" points=\"1021.0893,-262.7503 1015.849,-253.5422 1014.2033,-264.0084 1021.0893,-262.7503\"/>\n</g>\n<!-- 27 -->\n<g id=\"node28\" class=\"node\">\n<title>27</title>\n<polygon fill=\"#e58139\" stroke=\"#000000\" points=\"1194,-253.5 1078,-253.5 1078,-200.5 1194,-200.5 1194,-253.5\"/>\n<text text-anchor=\"middle\" x=\"1136\" y=\"-238.3\" font-family=\"Times,serif\" font-size=\"14.00\" fill=\"#000000\">samples = 9</text>\n<text text-anchor=\"middle\" x=\"1136\" y=\"-223.3\" font-family=\"Times,serif\" font-size=\"14.00\" fill=\"#000000\">value = [9, 0]</text>\n<text text-anchor=\"middle\" x=\"1136\" y=\"-208.3\" font-family=\"Times,serif\" font-size=\"14.00\" fill=\"#000000\">class = malignant</text>\n</g>\n<!-- 25&#45;&gt;27 -->\n<g id=\"edge27\" class=\"edge\">\n<title>25&#45;&gt;27</title>\n<path fill=\"none\" stroke=\"#000000\" d=\"M1064.7084,-296.9465C1076.6087,-285.2707 1089.9114,-272.219 1101.7733,-260.5809\"/>\n<polygon fill=\"#000000\" stroke=\"#000000\" points=\"1104.2605,-263.0439 1108.9474,-253.5422 1099.3581,-258.0473 1104.2605,-263.0439\"/>\n</g>\n</g>\n</svg>\n"
          },
          "metadata": {
            "tags": []
          },
          "execution_count": 22
        }
      ]
    },
    {
      "cell_type": "markdown",
      "metadata": {
        "id": "Xf3wIr6KcB-c"
      },
      "source": [
        "##APLICANDO CORRECCIÓN AL NIVEL DE PROFUNDIDAD"
      ]
    },
    {
      "cell_type": "code",
      "metadata": {
        "id": "Q7xIQI-P6bCg"
      },
      "source": [
        "arbol=DecisionTreeClassifier(max_depth=3)"
      ],
      "execution_count": null,
      "outputs": []
    },
    {
      "cell_type": "code",
      "metadata": {
        "colab": {
          "base_uri": "https://localhost:8080/"
        },
        "id": "snBnzm_q6z60",
        "outputId": "937c7801-7839-4721-8d78-0d5c94b7cdac"
      },
      "source": [
        "arbol.fit(X_entrenamiento, y_entrenamiento)"
      ],
      "execution_count": null,
      "outputs": [
        {
          "output_type": "execute_result",
          "data": {
            "text/plain": [
              "DecisionTreeClassifier(ccp_alpha=0.0, class_weight=None, criterion='gini',\n",
              "                       max_depth=3, max_features=None, max_leaf_nodes=None,\n",
              "                       min_impurity_decrease=0.0, min_impurity_split=None,\n",
              "                       min_samples_leaf=1, min_samples_split=2,\n",
              "                       min_weight_fraction_leaf=0.0, presort='deprecated',\n",
              "                       random_state=None, splitter='best')"
            ]
          },
          "metadata": {
            "tags": []
          },
          "execution_count": 29
        }
      ]
    },
    {
      "cell_type": "markdown",
      "metadata": {
        "id": "mF_4uoPAcuDX"
      },
      "source": [
        "Nivel de presicion con los datos de prueba"
      ]
    },
    {
      "cell_type": "code",
      "metadata": {
        "colab": {
          "base_uri": "https://localhost:8080/"
        },
        "id": "Fe3LaAYL63jC",
        "outputId": "fdfbee64-e2bf-4ac7-f40e-c096b1b9096f"
      },
      "source": [
        "arbol.score(X_prueba, y_prueba)"
      ],
      "execution_count": null,
      "outputs": [
        {
          "output_type": "execute_result",
          "data": {
            "text/plain": [
              "0.9020979020979021"
            ]
          },
          "metadata": {
            "tags": []
          },
          "execution_count": 30
        }
      ]
    },
    {
      "cell_type": "markdown",
      "metadata": {
        "id": "bS2zH6JlcxDt"
      },
      "source": [
        "Nivel de presicion con los datos de entrenamiento"
      ]
    },
    {
      "cell_type": "code",
      "metadata": {
        "colab": {
          "base_uri": "https://localhost:8080/"
        },
        "id": "puSOq3ng66rk",
        "outputId": "b45ee8d2-8029-4095-8047-d3072209eeae"
      },
      "source": [
        "arbol.score(X_entrenamiento, y_entrenamiento)"
      ],
      "execution_count": null,
      "outputs": [
        {
          "output_type": "execute_result",
          "data": {
            "text/plain": [
              "0.9765258215962441"
            ]
          },
          "metadata": {
            "tags": []
          },
          "execution_count": 31
        }
      ]
    },
    {
      "cell_type": "markdown",
      "metadata": {
        "id": "TIKTrdPGc059"
      },
      "source": [
        "Graficacion del arbol de decisiones"
      ]
    },
    {
      "cell_type": "code",
      "metadata": {
        "colab": {
          "base_uri": "https://localhost:8080/",
          "height": 538
        },
        "id": "FOvIeQOJbHPT",
        "outputId": "6efccabb-1ebd-4a3d-e2ec-814275628e2a"
      },
      "source": [
        "export_graphviz(arbol, out_file='arbol.dot',class_names=cancer.target_names,\n",
        "                feature_names=cancer.feature_names,impurity=False,filled=True)\n",
        "\n",
        "\n",
        "\n",
        "with open('arbol.dot') as f:\n",
        "  dot_graph=f.read()\n",
        "graphviz.Source(dot_graph)"
      ],
      "execution_count": null,
      "outputs": [
        {
          "output_type": "execute_result",
          "data": {
            "text/plain": [
              "<graphviz.files.Source at 0x7fd7a3d0fe90>"
            ],
            "image/svg+xml": "<?xml version=\"1.0\" encoding=\"UTF-8\" standalone=\"no\"?>\n<!DOCTYPE svg PUBLIC \"-//W3C//DTD SVG 1.1//EN\"\n \"http://www.w3.org/Graphics/SVG/1.1/DTD/svg11.dtd\">\n<!-- Generated by graphviz version 2.40.1 (20161225.0304)\n -->\n<!-- Title: Tree Pages: 1 -->\n<svg width=\"1024pt\" height=\"373pt\"\n viewBox=\"0.00 0.00 1024.00 373.00\" xmlns=\"http://www.w3.org/2000/svg\" xmlns:xlink=\"http://www.w3.org/1999/xlink\">\n<g id=\"graph0\" class=\"graph\" transform=\"scale(1 1) rotate(0) translate(4 369)\">\n<title>Tree</title>\n<polygon fill=\"#ffffff\" stroke=\"transparent\" points=\"-4,4 -4,-369 1020,-369 1020,4 -4,4\"/>\n<!-- 0 -->\n<g id=\"node1\" class=\"node\">\n<title>0</title>\n<polygon fill=\"#b1d9f5\" stroke=\"#000000\" points=\"550,-365 380,-365 380,-297 550,-297 550,-365\"/>\n<text text-anchor=\"middle\" x=\"465\" y=\"-349.8\" font-family=\"Times,serif\" font-size=\"14.00\" fill=\"#000000\">worst perimeter &lt;= 105.95</text>\n<text text-anchor=\"middle\" x=\"465\" y=\"-334.8\" font-family=\"Times,serif\" font-size=\"14.00\" fill=\"#000000\">samples = 426</text>\n<text text-anchor=\"middle\" x=\"465\" y=\"-319.8\" font-family=\"Times,serif\" font-size=\"14.00\" fill=\"#000000\">value = [161, 265]</text>\n<text text-anchor=\"middle\" x=\"465\" y=\"-304.8\" font-family=\"Times,serif\" font-size=\"14.00\" fill=\"#000000\">class = benign</text>\n</g>\n<!-- 1 -->\n<g id=\"node2\" class=\"node\">\n<title>1</title>\n<polygon fill=\"#43a2e6\" stroke=\"#000000\" points=\"458.5,-261 263.5,-261 263.5,-193 458.5,-193 458.5,-261\"/>\n<text text-anchor=\"middle\" x=\"361\" y=\"-245.8\" font-family=\"Times,serif\" font-size=\"14.00\" fill=\"#000000\">worst concave points &lt;= 0.161</text>\n<text text-anchor=\"middle\" x=\"361\" y=\"-230.8\" font-family=\"Times,serif\" font-size=\"14.00\" fill=\"#000000\">samples = 261</text>\n<text text-anchor=\"middle\" x=\"361\" y=\"-215.8\" font-family=\"Times,serif\" font-size=\"14.00\" fill=\"#000000\">value = [12, 249]</text>\n<text text-anchor=\"middle\" x=\"361\" y=\"-200.8\" font-family=\"Times,serif\" font-size=\"14.00\" fill=\"#000000\">class = benign</text>\n</g>\n<!-- 0&#45;&gt;1 -->\n<g id=\"edge1\" class=\"edge\">\n<title>0&#45;&gt;1</title>\n<path fill=\"none\" stroke=\"#000000\" d=\"M430.9465,-296.9465C421.7884,-287.7884 411.7838,-277.7838 402.2788,-268.2788\"/>\n<polygon fill=\"#000000\" stroke=\"#000000\" points=\"404.676,-265.7262 395.13,-261.13 399.7262,-270.676 404.676,-265.7262\"/>\n<text text-anchor=\"middle\" x=\"395.13\" y=\"-282.43\" font-family=\"Times,serif\" font-size=\"14.00\" fill=\"#000000\">True</text>\n</g>\n<!-- 8 -->\n<g id=\"node9\" class=\"node\">\n<title>8</title>\n<polygon fill=\"#e88f4e\" stroke=\"#000000\" points=\"687,-261 531,-261 531,-193 687,-193 687,-261\"/>\n<text text-anchor=\"middle\" x=\"609\" y=\"-245.8\" font-family=\"Times,serif\" font-size=\"14.00\" fill=\"#000000\">worst texture &lt;= 20.645</text>\n<text text-anchor=\"middle\" x=\"609\" y=\"-230.8\" font-family=\"Times,serif\" font-size=\"14.00\" fill=\"#000000\">samples = 165</text>\n<text text-anchor=\"middle\" x=\"609\" y=\"-215.8\" font-family=\"Times,serif\" font-size=\"14.00\" fill=\"#000000\">value = [149, 16]</text>\n<text text-anchor=\"middle\" x=\"609\" y=\"-200.8\" font-family=\"Times,serif\" font-size=\"14.00\" fill=\"#000000\">class = malignant</text>\n</g>\n<!-- 0&#45;&gt;8 -->\n<g id=\"edge8\" class=\"edge\">\n<title>0&#45;&gt;8</title>\n<path fill=\"none\" stroke=\"#000000\" d=\"M512.151,-296.9465C525.3287,-287.4293 539.7722,-276.9978 553.3897,-267.163\"/>\n<polygon fill=\"#000000\" stroke=\"#000000\" points=\"555.6855,-269.8223 561.7431,-261.13 551.587,-264.1476 555.6855,-269.8223\"/>\n<text text-anchor=\"middle\" x=\"557.7623\" y=\"-282.111\" font-family=\"Times,serif\" font-size=\"14.00\" fill=\"#000000\">False</text>\n</g>\n<!-- 2 -->\n<g id=\"node3\" class=\"node\">\n<title>2</title>\n<polygon fill=\"#3d9fe6\" stroke=\"#000000\" points=\"253.5,-157 118.5,-157 118.5,-89 253.5,-89 253.5,-157\"/>\n<text text-anchor=\"middle\" x=\"186\" y=\"-141.8\" font-family=\"Times,serif\" font-size=\"14.00\" fill=\"#000000\">area error &lt;= 91.555</text>\n<text text-anchor=\"middle\" x=\"186\" y=\"-126.8\" font-family=\"Times,serif\" font-size=\"14.00\" fill=\"#000000\">samples = 253</text>\n<text text-anchor=\"middle\" x=\"186\" y=\"-111.8\" font-family=\"Times,serif\" font-size=\"14.00\" fill=\"#000000\">value = [5, 248]</text>\n<text text-anchor=\"middle\" x=\"186\" y=\"-96.8\" font-family=\"Times,serif\" font-size=\"14.00\" fill=\"#000000\">class = benign</text>\n</g>\n<!-- 1&#45;&gt;2 -->\n<g id=\"edge2\" class=\"edge\">\n<title>1&#45;&gt;2</title>\n<path fill=\"none\" stroke=\"#000000\" d=\"M303.6985,-192.9465C287.2306,-183.1599 269.1362,-172.4066 252.1793,-162.3294\"/>\n<polygon fill=\"#000000\" stroke=\"#000000\" points=\"253.8149,-159.23 243.4303,-157.13 250.2387,-165.2476 253.8149,-159.23\"/>\n</g>\n<!-- 5 -->\n<g id=\"node6\" class=\"node\">\n<title>5</title>\n<polygon fill=\"#e99355\" stroke=\"#000000\" points=\"443.5,-157 278.5,-157 278.5,-89 443.5,-89 443.5,-157\"/>\n<text text-anchor=\"middle\" x=\"361\" y=\"-141.8\" font-family=\"Times,serif\" font-size=\"14.00\" fill=\"#000000\">worst concavity &lt;= 1.046</text>\n<text text-anchor=\"middle\" x=\"361\" y=\"-126.8\" font-family=\"Times,serif\" font-size=\"14.00\" fill=\"#000000\">samples = 8</text>\n<text text-anchor=\"middle\" x=\"361\" y=\"-111.8\" font-family=\"Times,serif\" font-size=\"14.00\" fill=\"#000000\">value = [7, 1]</text>\n<text text-anchor=\"middle\" x=\"361\" y=\"-96.8\" font-family=\"Times,serif\" font-size=\"14.00\" fill=\"#000000\">class = malignant</text>\n</g>\n<!-- 1&#45;&gt;5 -->\n<g id=\"edge5\" class=\"edge\">\n<title>1&#45;&gt;5</title>\n<path fill=\"none\" stroke=\"#000000\" d=\"M361,-192.9465C361,-184.776 361,-175.9318 361,-167.3697\"/>\n<polygon fill=\"#000000\" stroke=\"#000000\" points=\"364.5001,-167.13 361,-157.13 357.5001,-167.13 364.5001,-167.13\"/>\n</g>\n<!-- 3 -->\n<g id=\"node4\" class=\"node\">\n<title>3</title>\n<polygon fill=\"#3c9fe5\" stroke=\"#000000\" points=\"110,-53 0,-53 0,0 110,0 110,-53\"/>\n<text text-anchor=\"middle\" x=\"55\" y=\"-37.8\" font-family=\"Times,serif\" font-size=\"14.00\" fill=\"#000000\">samples = 252</text>\n<text text-anchor=\"middle\" x=\"55\" y=\"-22.8\" font-family=\"Times,serif\" font-size=\"14.00\" fill=\"#000000\">value = [4, 248]</text>\n<text text-anchor=\"middle\" x=\"55\" y=\"-7.8\" font-family=\"Times,serif\" font-size=\"14.00\" fill=\"#000000\">class = benign</text>\n</g>\n<!-- 2&#45;&gt;3 -->\n<g id=\"edge3\" class=\"edge\">\n<title>2&#45;&gt;3</title>\n<path fill=\"none\" stroke=\"#000000\" d=\"M139.8143,-88.9777C126.7621,-79.3629 112.5861,-68.9203 99.6273,-59.3743\"/>\n<polygon fill=\"#000000\" stroke=\"#000000\" points=\"101.4386,-56.3615 91.3114,-53.2485 97.2869,-61.9974 101.4386,-56.3615\"/>\n</g>\n<!-- 4 -->\n<g id=\"node5\" class=\"node\">\n<title>4</title>\n<polygon fill=\"#e58139\" stroke=\"#000000\" points=\"244,-53 128,-53 128,0 244,0 244,-53\"/>\n<text text-anchor=\"middle\" x=\"186\" y=\"-37.8\" font-family=\"Times,serif\" font-size=\"14.00\" fill=\"#000000\">samples = 1</text>\n<text text-anchor=\"middle\" x=\"186\" y=\"-22.8\" font-family=\"Times,serif\" font-size=\"14.00\" fill=\"#000000\">value = [1, 0]</text>\n<text text-anchor=\"middle\" x=\"186\" y=\"-7.8\" font-family=\"Times,serif\" font-size=\"14.00\" fill=\"#000000\">class = malignant</text>\n</g>\n<!-- 2&#45;&gt;4 -->\n<g id=\"edge4\" class=\"edge\">\n<title>2&#45;&gt;4</title>\n<path fill=\"none\" stroke=\"#000000\" d=\"M186,-88.9777C186,-80.7364 186,-71.887 186,-63.5153\"/>\n<polygon fill=\"#000000\" stroke=\"#000000\" points=\"189.5001,-63.2484 186,-53.2485 182.5001,-63.2485 189.5001,-63.2484\"/>\n</g>\n<!-- 6 -->\n<g id=\"node7\" class=\"node\">\n<title>6</title>\n<polygon fill=\"#e58139\" stroke=\"#000000\" points=\"378,-53 262,-53 262,0 378,0 378,-53\"/>\n<text text-anchor=\"middle\" x=\"320\" y=\"-37.8\" font-family=\"Times,serif\" font-size=\"14.00\" fill=\"#000000\">samples = 7</text>\n<text text-anchor=\"middle\" x=\"320\" y=\"-22.8\" font-family=\"Times,serif\" font-size=\"14.00\" fill=\"#000000\">value = [7, 0]</text>\n<text text-anchor=\"middle\" x=\"320\" y=\"-7.8\" font-family=\"Times,serif\" font-size=\"14.00\" fill=\"#000000\">class = malignant</text>\n</g>\n<!-- 5&#45;&gt;6 -->\n<g id=\"edge6\" class=\"edge\">\n<title>5&#45;&gt;6</title>\n<path fill=\"none\" stroke=\"#000000\" d=\"M346.5449,-88.9777C342.9267,-80.4617 339.0326,-71.2963 335.3717,-62.6798\"/>\n<polygon fill=\"#000000\" stroke=\"#000000\" points=\"338.4964,-61.0836 331.3646,-53.2485 332.0538,-63.8209 338.4964,-61.0836\"/>\n</g>\n<!-- 7 -->\n<g id=\"node8\" class=\"node\">\n<title>7</title>\n<polygon fill=\"#399de5\" stroke=\"#000000\" points=\"494,-53 396,-53 396,0 494,0 494,-53\"/>\n<text text-anchor=\"middle\" x=\"445\" y=\"-37.8\" font-family=\"Times,serif\" font-size=\"14.00\" fill=\"#000000\">samples = 1</text>\n<text text-anchor=\"middle\" x=\"445\" y=\"-22.8\" font-family=\"Times,serif\" font-size=\"14.00\" fill=\"#000000\">value = [0, 1]</text>\n<text text-anchor=\"middle\" x=\"445\" y=\"-7.8\" font-family=\"Times,serif\" font-size=\"14.00\" fill=\"#000000\">class = benign</text>\n</g>\n<!-- 5&#45;&gt;7 -->\n<g id=\"edge7\" class=\"edge\">\n<title>5&#45;&gt;7</title>\n<path fill=\"none\" stroke=\"#000000\" d=\"M390.6153,-88.9777C398.5064,-79.9123 407.0381,-70.111 414.9522,-61.0192\"/>\n<polygon fill=\"#000000\" stroke=\"#000000\" points=\"417.7906,-63.0892 421.7164,-53.2485 412.5107,-58.4932 417.7906,-63.0892\"/>\n</g>\n<!-- 9 -->\n<g id=\"node10\" class=\"node\">\n<title>9</title>\n<polygon fill=\"#a5d2f3\" stroke=\"#000000\" points=\"694,-157 524,-157 524,-89 694,-89 694,-157\"/>\n<text text-anchor=\"middle\" x=\"609\" y=\"-141.8\" font-family=\"Times,serif\" font-size=\"14.00\" fill=\"#000000\">worst perimeter &lt;= 115.95</text>\n<text text-anchor=\"middle\" x=\"609\" y=\"-126.8\" font-family=\"Times,serif\" font-size=\"14.00\" fill=\"#000000\">samples = 17</text>\n<text text-anchor=\"middle\" x=\"609\" y=\"-111.8\" font-family=\"Times,serif\" font-size=\"14.00\" fill=\"#000000\">value = [6, 11]</text>\n<text text-anchor=\"middle\" x=\"609\" y=\"-96.8\" font-family=\"Times,serif\" font-size=\"14.00\" fill=\"#000000\">class = benign</text>\n</g>\n<!-- 8&#45;&gt;9 -->\n<g id=\"edge9\" class=\"edge\">\n<title>8&#45;&gt;9</title>\n<path fill=\"none\" stroke=\"#000000\" d=\"M609,-192.9465C609,-184.776 609,-175.9318 609,-167.3697\"/>\n<polygon fill=\"#000000\" stroke=\"#000000\" points=\"612.5001,-167.13 609,-157.13 605.5001,-167.13 612.5001,-167.13\"/>\n</g>\n<!-- 12 -->\n<g id=\"node13\" class=\"node\">\n<title>12</title>\n<polygon fill=\"#e68540\" stroke=\"#000000\" points=\"890,-157 758,-157 758,-89 890,-89 890,-157\"/>\n<text text-anchor=\"middle\" x=\"824\" y=\"-141.8\" font-family=\"Times,serif\" font-size=\"14.00\" fill=\"#000000\">worst area &lt;= 829.7</text>\n<text text-anchor=\"middle\" x=\"824\" y=\"-126.8\" font-family=\"Times,serif\" font-size=\"14.00\" fill=\"#000000\">samples = 148</text>\n<text text-anchor=\"middle\" x=\"824\" y=\"-111.8\" font-family=\"Times,serif\" font-size=\"14.00\" fill=\"#000000\">value = [143, 5]</text>\n<text text-anchor=\"middle\" x=\"824\" y=\"-96.8\" font-family=\"Times,serif\" font-size=\"14.00\" fill=\"#000000\">class = malignant</text>\n</g>\n<!-- 8&#45;&gt;12 -->\n<g id=\"edge12\" class=\"edge\">\n<title>8&#45;&gt;12</title>\n<path fill=\"none\" stroke=\"#000000\" d=\"M679.399,-192.9465C701.5723,-182.2209 726.1458,-170.3341 748.6492,-159.4487\"/>\n<polygon fill=\"#000000\" stroke=\"#000000\" points=\"750.343,-162.5174 757.8211,-155.0121 747.2948,-156.216 750.343,-162.5174\"/>\n</g>\n<!-- 10 -->\n<g id=\"node11\" class=\"node\">\n<title>10</title>\n<polygon fill=\"#399de5\" stroke=\"#000000\" points=\"614,-53 512,-53 512,0 614,0 614,-53\"/>\n<text text-anchor=\"middle\" x=\"563\" y=\"-37.8\" font-family=\"Times,serif\" font-size=\"14.00\" fill=\"#000000\">samples = 10</text>\n<text text-anchor=\"middle\" x=\"563\" y=\"-22.8\" font-family=\"Times,serif\" font-size=\"14.00\" fill=\"#000000\">value = [0, 10]</text>\n<text text-anchor=\"middle\" x=\"563\" y=\"-7.8\" font-family=\"Times,serif\" font-size=\"14.00\" fill=\"#000000\">class = benign</text>\n</g>\n<!-- 9&#45;&gt;10 -->\n<g id=\"edge10\" class=\"edge\">\n<title>9&#45;&gt;10</title>\n<path fill=\"none\" stroke=\"#000000\" d=\"M592.7821,-88.9777C588.679,-80.3702 584.2597,-71.0992 580.1139,-62.402\"/>\n<polygon fill=\"#000000\" stroke=\"#000000\" points=\"583.213,-60.7693 575.7506,-53.2485 576.8942,-63.7814 583.213,-60.7693\"/>\n</g>\n<!-- 11 -->\n<g id=\"node12\" class=\"node\">\n<title>11</title>\n<polygon fill=\"#e9965a\" stroke=\"#000000\" points=\"748,-53 632,-53 632,0 748,0 748,-53\"/>\n<text text-anchor=\"middle\" x=\"690\" y=\"-37.8\" font-family=\"Times,serif\" font-size=\"14.00\" fill=\"#000000\">samples = 7</text>\n<text text-anchor=\"middle\" x=\"690\" y=\"-22.8\" font-family=\"Times,serif\" font-size=\"14.00\" fill=\"#000000\">value = [6, 1]</text>\n<text text-anchor=\"middle\" x=\"690\" y=\"-7.8\" font-family=\"Times,serif\" font-size=\"14.00\" fill=\"#000000\">class = malignant</text>\n</g>\n<!-- 9&#45;&gt;11 -->\n<g id=\"edge11\" class=\"edge\">\n<title>9&#45;&gt;11</title>\n<path fill=\"none\" stroke=\"#000000\" d=\"M637.5576,-88.9777C645.1669,-79.9123 653.3939,-70.111 661.0253,-61.0192\"/>\n<polygon fill=\"#000000\" stroke=\"#000000\" points=\"663.7995,-63.1581 667.5479,-53.2485 658.438,-58.6577 663.7995,-63.1581\"/>\n</g>\n<!-- 13 -->\n<g id=\"node14\" class=\"node\">\n<title>13</title>\n<polygon fill=\"#f3c7a7\" stroke=\"#000000\" points=\"882,-53 766,-53 766,0 882,0 882,-53\"/>\n<text text-anchor=\"middle\" x=\"824\" y=\"-37.8\" font-family=\"Times,serif\" font-size=\"14.00\" fill=\"#000000\">samples = 14</text>\n<text text-anchor=\"middle\" x=\"824\" y=\"-22.8\" font-family=\"Times,serif\" font-size=\"14.00\" fill=\"#000000\">value = [9, 5]</text>\n<text text-anchor=\"middle\" x=\"824\" y=\"-7.8\" font-family=\"Times,serif\" font-size=\"14.00\" fill=\"#000000\">class = malignant</text>\n</g>\n<!-- 12&#45;&gt;13 -->\n<g id=\"edge13\" class=\"edge\">\n<title>12&#45;&gt;13</title>\n<path fill=\"none\" stroke=\"#000000\" d=\"M824,-88.9777C824,-80.7364 824,-71.887 824,-63.5153\"/>\n<polygon fill=\"#000000\" stroke=\"#000000\" points=\"827.5001,-63.2484 824,-53.2485 820.5001,-63.2485 827.5001,-63.2484\"/>\n</g>\n<!-- 14 -->\n<g id=\"node15\" class=\"node\">\n<title>14</title>\n<polygon fill=\"#e58139\" stroke=\"#000000\" points=\"1016,-53 900,-53 900,0 1016,0 1016,-53\"/>\n<text text-anchor=\"middle\" x=\"958\" y=\"-37.8\" font-family=\"Times,serif\" font-size=\"14.00\" fill=\"#000000\">samples = 134</text>\n<text text-anchor=\"middle\" x=\"958\" y=\"-22.8\" font-family=\"Times,serif\" font-size=\"14.00\" fill=\"#000000\">value = [134, 0]</text>\n<text text-anchor=\"middle\" x=\"958\" y=\"-7.8\" font-family=\"Times,serif\" font-size=\"14.00\" fill=\"#000000\">class = malignant</text>\n</g>\n<!-- 12&#45;&gt;14 -->\n<g id=\"edge14\" class=\"edge\">\n<title>12&#45;&gt;14</title>\n<path fill=\"none\" stroke=\"#000000\" d=\"M871.2434,-88.9777C884.7217,-79.2713 899.3715,-68.7213 912.7291,-59.1018\"/>\n<polygon fill=\"#000000\" stroke=\"#000000\" points=\"914.7876,-61.9325 920.857,-53.2485 910.6969,-56.2522 914.7876,-61.9325\"/>\n</g>\n</g>\n</svg>\n"
          },
          "metadata": {
            "tags": []
          },
          "execution_count": 32
        }
      ]
    }
  ]
}